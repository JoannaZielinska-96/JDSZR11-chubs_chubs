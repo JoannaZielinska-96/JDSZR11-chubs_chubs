{
 "cells": [
  {
   "cell_type": "code",
   "execution_count": 2,
   "id": "c0483e80-7ab1-42c4-89fd-d060f7ffadf0",
   "metadata": {},
   "outputs": [
    {
     "name": "stdout",
     "output_type": "stream",
     "text": [
      "2023-03-05\n",
      "Podaj nowe haslo\n"
     ]
    },
    {
     "name": "stdin",
     "output_type": "stream",
     "text": [
      " asfasfqwrqwasf\n"
     ]
    },
    {
     "name": "stdout",
     "output_type": "stream",
     "text": [
      "Haslo musi zawierac znak specjalny\n"
     ]
    },
    {
     "ename": "KeyboardInterrupt",
     "evalue": "",
     "output_type": "error",
     "traceback": [
      "\u001b[1;31m---------------------------------------------------------------------------\u001b[0m",
      "\u001b[1;31mKeyboardInterrupt\u001b[0m                         Traceback (most recent call last)",
      "\u001b[1;32m~\\AppData\\Local\\Temp\\ipykernel_143232\\1223271983.py\u001b[0m in \u001b[0;36m<module>\u001b[1;34m\u001b[0m\n\u001b[0;32m     18\u001b[0m         \u001b[1;32mwhile\u001b[0m \u001b[0mstatus_zmiany_hasla\u001b[0m \u001b[1;33m==\u001b[0m \u001b[1;32mFalse\u001b[0m \u001b[1;32mor\u001b[0m \u001b[0mcount\u001b[0m \u001b[1;33m==\u001b[0m \u001b[0mlen\u001b[0m\u001b[1;33m(\u001b[0m\u001b[0mznak_specjalny\u001b[0m\u001b[1;33m)\u001b[0m\u001b[1;33m:\u001b[0m\u001b[1;33m\u001b[0m\u001b[1;33m\u001b[0m\u001b[0m\n\u001b[0;32m     19\u001b[0m             \u001b[1;32mfor\u001b[0m \u001b[0mi\u001b[0m \u001b[1;32min\u001b[0m \u001b[0mznak_specjalny\u001b[0m\u001b[1;33m:\u001b[0m\u001b[1;33m\u001b[0m\u001b[1;33m\u001b[0m\u001b[0m\n\u001b[1;32m---> 20\u001b[1;33m                 \u001b[1;32mif\u001b[0m \u001b[0mi\u001b[0m \u001b[1;32min\u001b[0m \u001b[0mhaslo\u001b[0m\u001b[1;33m:\u001b[0m\u001b[1;33m\u001b[0m\u001b[1;33m\u001b[0m\u001b[0m\n\u001b[0m\u001b[0;32m     21\u001b[0m                     \u001b[0mstatus_zmiany_hasla\u001b[0m \u001b[1;33m=\u001b[0m \u001b[1;32mTrue\u001b[0m              \u001b[1;31m# zmiana statusu hasła aby zatrzymac petle do sprawdzania znakow specjalnych przy przynajmnije jednym wystąpieniu znaku specjalnego\u001b[0m\u001b[1;33m\u001b[0m\u001b[1;33m\u001b[0m\u001b[0m\n\u001b[0;32m     22\u001b[0m                     \u001b[0mprint\u001b[0m\u001b[1;33m(\u001b[0m\u001b[1;34m\"Haslo zmienione\"\u001b[0m\u001b[1;33m)\u001b[0m\u001b[1;33m\u001b[0m\u001b[1;33m\u001b[0m\u001b[0m\n",
      "\u001b[1;31mKeyboardInterrupt\u001b[0m: "
     ]
    }
   ],
   "source": [
    "from datetime import date                #zaimporotowanie typu daty z bilioteki datetime\n",
    "print(date.today())                         # na potrzeby testowania hasła do aktualnego mieisaca i roku  \n",
    "rok = date.today().year                      #wyciagnieceie roku z biezacej daty\n",
    "miesiac = date.today().month                #wyciagnieceie miesiace z biezacej daty\n",
    "miesiac_pl = [\"styczen\",\"luty\",\"marzec\",\"kwiecien\",\"maj\",\n",
    "              \"czerwiec\",\"lipiec\",\"sierpien\",\"wrzesien\",\"pazdziernik\",\"listopad\",\"grudzien\"]\n",
    "                                      # stworzenie listy dla polskich miesiecy\n",
    "znak_specjalny = [\"#\",\"@\",\"&\"]        #lista znakow specjalnych\n",
    "status_zmiany_hasla = False           # status czy haslo zostalo zmienione \n",
    "count = 0                             #licznik do zatrzymania petli sprawdzajace znaki specjalne\n",
    "\n",
    "print('Podaj nowe haslo')\n",
    "haslo =input()\n",
    "if len(haslo) >=8 :\n",
    "    if miesiac_pl[miesiac-1] in haslo.lower():           # sprawdzanie bierzacego miesiaca\n",
    "        print(\"Nie moze zawierac bierzacego miesiaca\")\n",
    "    else:\n",
    "        while status_zmiany_hasla == False or count == len(znak_specjalny): \n",
    "            for i in znak_specjalny:\n",
    "                if i in haslo:\n",
    "                    status_zmiany_hasla = True              # zmiana statusu hasła aby zatrzymac petle do sprawdzania znakow specjalnych przy przynajmnije jednym wystąpieniu znaku specjalnego\n",
    "                    print(\"Haslo zmienione\")\n",
    "                else:\n",
    "                    if count == (len(znak_specjalny)):  # porownianie z dlugosci list znakow specjalnych aby sprwdzone zostaly wszystkie znaki a po przedostatnim informacja o braku znaku specjalnego\n",
    "                        print(\"Haslo musi zawierac znak specjalny\")\n",
    "                    count +=1\n",
    "else:\n",
    "    print(\"Haslo za krótkie\")"
   ]
  },
  {
   "cell_type": "code",
   "execution_count": 6,
   "id": "af59dd3c-4c26-4419-b763-834ce8cc0671",
   "metadata": {},
   "outputs": [
    {
     "name": "stdout",
     "output_type": "stream",
     "text": [
      "2023-03-05\n",
      "Podaj nowe haslo\n"
     ]
    },
    {
     "name": "stdin",
     "output_type": "stream",
     "text": [
      " Marzec 12125124\n"
     ]
    },
    {
     "name": "stdout",
     "output_type": "stream",
     "text": [
      "Nie moze zawierac bieżacego miesiaca\n"
     ]
    }
   ],
   "source": [
    "from datetime import date                #zaimporotowanie typu daty z bilioteki datetime\n",
    "print(date.today())                         # na potrzeby testowania hasła do aktualnego mieisaca i roku  \n",
    "rok = date.today().year                      #wyciagnieceie roku z biezacej daty\n",
    "miesiac = date.today().month                #wyciagnieceie miesiace z biezacej daty\n",
    "miesiac_pl = [\"styczen\",\"luty\",\"marzec\",\"kwiecien\",\"maj\",\n",
    "              \"czerwiec\",\"lipiec\",\"sierpien\",\"wrzesien\",\"pazdziernik\",\"listopad\",\"grudzien\"]\n",
    "                                      # stworzenie listy dla polskich miesiecy\n",
    "znak_specjalny = [\"#\",\"@\",\"&\"]        #lista znakow specjalnych\n",
    "status_zmiany_hasla = False           # status czy haslo zostalo zmienione \n",
    "count = 0                             #licznik do zatrzymania petli sprawdzajace znaki specjalne\n",
    "\n",
    "print('Podaj nowe haslo')\n",
    "haslo =input()\n",
    "if len(haslo) >= 8 :\n",
    "    if miesiac_pl[miesiac-1] in haslo.lower():           # sprawdzanie biezacego miesiaca\n",
    "        print(\"Nie moze zawierac bieżacego miesiaca\")\n",
    "    else: \n",
    "        for i in znak_specjalny:\n",
    "            if i in haslo:\n",
    "                status_zmiany_hasla = True              # zmiana statusu hasła aby zatrzymac petle do sprawdzania znakow specjalnych przy przynajmnije jednym wystąpieniu znaku specjalnego\n",
    "                print(\"Haslo zmienione\")\n",
    "        if not status_zmiany_hasla:\n",
    "            print(\"Haslo musi zawierac znak specjalny\")\n",
    "else:\n",
    "    print(\"Haslo za krótkie\")\n"
   ]
  },
  {
   "cell_type": "code",
   "execution_count": 1,
   "id": "1b889467-148b-4806-9265-8c3f26763a47",
   "metadata": {},
   "outputs": [
    {
     "ename": "NameError",
     "evalue": "name 'miesiac_pl' is not defined",
     "output_type": "error",
     "traceback": [
      "\u001b[1;31m---------------------------------------------------------------------------\u001b[0m",
      "\u001b[1;31mNameError\u001b[0m                                 Traceback (most recent call last)",
      "\u001b[1;32m~\\AppData\\Local\\Temp\\ipykernel_143232\\228604791.py\u001b[0m in \u001b[0;36m<module>\u001b[1;34m\u001b[0m\n\u001b[0;32m      1\u001b[0m \u001b[0mhaslo\u001b[0m \u001b[1;33m=\u001b[0m \u001b[1;34m'2023allal@'\u001b[0m\u001b[1;33m\u001b[0m\u001b[1;33m\u001b[0m\u001b[0m\n\u001b[0;32m      2\u001b[0m \u001b[1;32mif\u001b[0m \u001b[0mlen\u001b[0m\u001b[1;33m(\u001b[0m\u001b[0mhaslo\u001b[0m\u001b[1;33m)\u001b[0m \u001b[1;33m>=\u001b[0m \u001b[1;36m8\u001b[0m \u001b[1;33m:\u001b[0m\u001b[1;33m\u001b[0m\u001b[1;33m\u001b[0m\u001b[0m\n\u001b[1;32m----> 3\u001b[1;33m     \u001b[1;32mif\u001b[0m \u001b[0mmiesiac_pl\u001b[0m\u001b[1;33m[\u001b[0m\u001b[0mmiesiac\u001b[0m\u001b[1;33m-\u001b[0m\u001b[1;36m1\u001b[0m\u001b[1;33m]\u001b[0m \u001b[1;32min\u001b[0m \u001b[0mhaslo\u001b[0m\u001b[1;33m.\u001b[0m\u001b[0mlower\u001b[0m\u001b[1;33m(\u001b[0m\u001b[1;33m)\u001b[0m \u001b[1;32mor\u001b[0m \u001b[0mstr\u001b[0m\u001b[1;33m(\u001b[0m\u001b[0mrok\u001b[0m\u001b[1;33m)\u001b[0m \u001b[1;32min\u001b[0m \u001b[0mhaslo\u001b[0m\u001b[1;33m.\u001b[0m\u001b[0mlower\u001b[0m\u001b[1;33m(\u001b[0m\u001b[1;33m)\u001b[0m\u001b[1;33m:\u001b[0m\u001b[1;33m\u001b[0m\u001b[1;33m\u001b[0m\u001b[0m\n\u001b[0m\u001b[0;32m      4\u001b[0m         \u001b[0mprint\u001b[0m\u001b[1;33m(\u001b[0m\u001b[1;34m\"Nie moze zawierac bieżacego roku ani miesiaca\"\u001b[0m\u001b[1;33m)\u001b[0m\u001b[1;33m\u001b[0m\u001b[1;33m\u001b[0m\u001b[0m\n\u001b[0;32m      5\u001b[0m     \u001b[1;32melse\u001b[0m\u001b[1;33m:\u001b[0m\u001b[1;33m\u001b[0m\u001b[1;33m\u001b[0m\u001b[0m\n",
      "\u001b[1;31mNameError\u001b[0m: name 'miesiac_pl' is not defined"
     ]
    }
   ],
   "source": [
    "haslo = '2023allal@'\n",
    "if len(haslo) >= 8 :\n",
    "    if miesiac_pl[miesiac-1] in haslo.lower() or str(rok) in haslo.lower():\n",
    "        print(\"Nie moze zawierac bieżacego roku ani miesiaca\")\n",
    "    else:\n",
    "        status_zmiany_hasla = max([i in haslo for i in znak_specjalny])\n",
    "        print(\"Haslo zmienione\" if status_zmiany_hasla\n",
    "                else \"Haslo musi zawierac znak specjalny\")\n",
    "else:\n",
    "    print(\"Haslo za krótkie\")"
   ]
  },
  {
   "cell_type": "code",
   "execution_count": null,
   "id": "089edcce-cf0a-4e03-8eb1-34a651a5d4c6",
   "metadata": {},
   "outputs": [],
   "source": []
  }
 ],
 "metadata": {
  "kernelspec": {
   "display_name": "Python 3 (ipykernel)",
   "language": "python",
   "name": "python3"
  },
  "language_info": {
   "codemirror_mode": {
    "name": "ipython",
    "version": 3
   },
   "file_extension": ".py",
   "mimetype": "text/x-python",
   "name": "python",
   "nbconvert_exporter": "python",
   "pygments_lexer": "ipython3",
   "version": "3.9.13"
  }
 },
 "nbformat": 4,
 "nbformat_minor": 5
}
