{
 "cells": [
  {
   "cell_type": "code",
   "execution_count": null,
   "id": "823a5ef1-2846-48a7-8b14-650614481009",
   "metadata": {},
   "outputs": [],
   "source": [
    "import seaborn as sns\n",
    "import pandas as pd\n",
    "import numpy as np"
   ]
  },
  {
   "cell_type": "markdown",
   "id": "aeb426a1",
   "metadata": {},
   "source": [
    "## Problem 1 \n",
    "Nasze puste wartośći istniejące w zbiorze danych narzucają na kolumny object, ponieważ nan jest domyślnie dla biblioteki pandas widoczne jako float. Także tam gdzie chciałbym int czy boolean robi nam krzaki przynajmniej to co do tej pory udało mi się przjerzeć.\n",
    "Z odpowiednio dodanymi castoawaniem typu i zamianą danych (i ich zachowaniem) pustych inaczej określone niż domyślnie udało mi się z warnigna zlikiwodać kolumne 7 11 i 12.\n",
    "## Problem 2 \n",
    "Dla kolumny 8 Explicti możliwość zmiany nan na domyślnie 0 kolumna boolean. Nie sprawdzałem jeszcze na ile nam to komplikuje w sesie jaką wartość niesie ze sobą kolmuna 8.\n",
    "## Warning\n",
    "Zlikwidowane wszystkie Warningi poza 8 ale to decyzja patrz problem 2. Kwestia czy wartości zostawiamy float czy może jednak inny typ im castujemy i coś innego niż zero. Zmiana aby pozbyć się warninga i narzucic flota dla 19 wierszy"
   ]
  },
  {
   "cell_type": "code",
   "execution_count": null,
   "id": "6eb39d8a-f453-4372-8a36-881b8e66bb5c",
   "metadata": {},
   "outputs": [
    {
     "name": "stderr",
     "output_type": "stream",
     "text": [
      "C:\\Users\\Data\\AppData\\Local\\Temp\\ipykernel_126284\\512786828.py:1: DtypeWarning: Columns (8,13,14,15,16,17,18,19,20,21,22,23,24,25) have mixed types. Specify dtype option on import or set low_memory=False.\n",
      "  df_orginal = pd.read_csv('./Orginal_database_from_Kaggle/Final database.csv',dtype={'Track_number':pd.Int8Dtype(),'Tracks_in_album':pd.Int64Dtype()},na_values=('n-a','NA'),sep= ',')\n"
     ]
    }
   ],
   "source": [
    "df_orginal = pd.read_csv('./Orginal_database_from_Kaggle/Final database.csv',dtype={'Track_number':pd.Int8Dtype(),'Tracks_in_album':pd.Int64Dtype()},na_values=('n-a','NA'),sep= ',')\n",
    "# pd.Int8Dtype() castuje integer for nan values from panda"
   ]
  },
  {
   "cell_type": "code",
   "execution_count": null,
   "id": "d2a0edbb-6ff1-4f87-a9f4-a66503c931f2",
   "metadata": {},
   "outputs": [],
   "source": [
    "columns = list(df_orginal.columns) # lista nazw wszystkich kolumn\n",
    "columns_to_check = [13,14,15,16,17,18,19,20,21,22,23,24,25] # lista indesków interesujących nas kolumn z warninga"
   ]
  },
  {
   "cell_type": "code",
   "execution_count": 118,
   "id": "7c89b2a0-d3f7-41bf-a90d-dbd0832e5b73",
   "metadata": {},
   "outputs": [],
   "source": [
    "def swich(filed):  # funncjka aby dokonac podmiany wartośći do wykrzystania przy parametrze converters\n",
    "    if filed == 'n\\x07':\n",
    "        return  0\n",
    "    else:\n",
    "        return float(filed) # nadanie float i tym samym zapewnnie kolumnie odpowiedniego typu\n",
    "    "
   ]
  },
  {
   "cell_type": "code",
   "execution_count": 119,
   "id": "c183b7f3-8c86-45c1-a00a-0758161a6482",
   "metadata": {},
   "outputs": [],
   "source": [
    "columns_to_change = {} # slownik złożony z  columns_to_check i funkcji swich\n",
    "for i,j in enumerate(columns):\n",
    "        if i in columns_to_check:\n",
    "            columns_to_change[j] = swich"
   ]
  },
  {
   "cell_type": "code",
   "execution_count": 120,
   "id": "18220335-1fe1-4de7-9cd2-384b2f14aa3c",
   "metadata": {},
   "outputs": [
    {
     "name": "stderr",
     "output_type": "stream",
     "text": [
      "C:\\Users\\Data\\AppData\\Local\\Temp\\ipykernel_113716\\1933048488.py:1: DtypeWarning: Columns (8) have mixed types. Specify dtype option on import or set low_memory=False.\n",
      "  df = pd.read_csv('./Orginal_database_from_Kaggle/Final database.csv',dtype={'Track_number':pd.Int8Dtype(),'Tracks_in_album':pd.Int64Dtype()},na_values=('n-a','NA'),sep= ',',converters=columns_to_change)\n"
     ]
    }
   ],
   "source": [
    "df = pd.read_csv('./Orginal_database_from_Kaggle/Final database.csv',dtype={'Track_number':pd.Int8Dtype(),'Tracks_in_album':pd.Int64Dtype()},na_values=('n-a','NA'),sep= ',',converters=columns_to_change)\n",
    "# pd.Int8Dtype() castuje integer for nan values from panda"
   ]
  },
  {
   "cell_type": "code",
   "execution_count": 121,
   "id": "fe8f40fd",
   "metadata": {},
   "outputs": [
    {
     "data": {
      "text/plain": [
       "(170633, 151)"
      ]
     },
     "execution_count": 121,
     "metadata": {},
     "output_type": "execute_result"
    }
   ],
   "source": [
    "df.shape"
   ]
  },
  {
   "cell_type": "code",
   "execution_count": 154,
   "id": "b4e8619d-70de-4ba6-a134-72a235fbbae0",
   "metadata": {},
   "outputs": [],
   "source": [
    "df_1 = pd.read_csv('./Orginal_database_from_Kaggle/Database to calculate popularity.csv')"
   ]
  },
  {
   "cell_type": "code",
   "execution_count": 155,
   "id": "468133e6-e28c-4cb8-9326-167587268193",
   "metadata": {},
   "outputs": [
    {
     "data": {
      "text/plain": [
       "(9807001, 8)"
      ]
     },
     "execution_count": 155,
     "metadata": {},
     "output_type": "execute_result"
    }
   ],
   "source": [
    "df_1.shape"
   ]
  },
  {
   "cell_type": "code",
   "execution_count": 174,
   "id": "516ed05e",
   "metadata": {},
   "outputs": [
    {
     "data": {
      "text/html": [
       "<div>\n",
       "<style scoped>\n",
       "    .dataframe tbody tr th:only-of-type {\n",
       "        vertical-align: middle;\n",
       "    }\n",
       "\n",
       "    .dataframe tbody tr th {\n",
       "        vertical-align: top;\n",
       "    }\n",
       "\n",
       "    .dataframe thead th {\n",
       "        text-align: right;\n",
       "    }\n",
       "</style>\n",
       "<table border=\"1\" class=\"dataframe\">\n",
       "  <thead>\n",
       "    <tr style=\"text-align: right;\">\n",
       "      <th></th>\n",
       "      <th>Unnamed: 0</th>\n",
       "      <th>country</th>\n",
       "      <th>date</th>\n",
       "      <th>position</th>\n",
       "      <th>uri</th>\n",
       "      <th>track</th>\n",
       "      <th>title</th>\n",
       "      <th>artist</th>\n",
       "    </tr>\n",
       "  </thead>\n",
       "  <tbody>\n",
       "    <tr>\n",
       "      <th>0</th>\n",
       "      <td>0</td>\n",
       "      <td>Global</td>\n",
       "      <td>05/11/2020</td>\n",
       "      <td>1.0</td>\n",
       "      <td>https://open.spotify.com/track/47EiUVwUp4C9fGc...</td>\n",
       "      <td>Dakiti , Bad Bunny, Jhay Cortez</td>\n",
       "      <td>Dakiti</td>\n",
       "      <td>Bad Bunny, Jhay Cortez</td>\n",
       "    </tr>\n",
       "    <tr>\n",
       "      <th>1</th>\n",
       "      <td>1</td>\n",
       "      <td>Global</td>\n",
       "      <td>05/11/2020</td>\n",
       "      <td>2.0</td>\n",
       "      <td>https://open.spotify.com/track/35mvY5S1H3J2QZy...</td>\n",
       "      <td>positions , Ariana Grande</td>\n",
       "      <td>positions</td>\n",
       "      <td>Ariana Grande</td>\n",
       "    </tr>\n",
       "    <tr>\n",
       "      <th>2</th>\n",
       "      <td>2</td>\n",
       "      <td>Global</td>\n",
       "      <td>05/11/2020</td>\n",
       "      <td>3.0</td>\n",
       "      <td>https://open.spotify.com/track/3tjFYV6RSFtuktY...</td>\n",
       "      <td>Mood  , 24kGoldn</td>\n",
       "      <td>Mood</td>\n",
       "      <td>24kGoldn</td>\n",
       "    </tr>\n",
       "    <tr>\n",
       "      <th>3</th>\n",
       "      <td>3</td>\n",
       "      <td>Global</td>\n",
       "      <td>05/11/2020</td>\n",
       "      <td>4.0</td>\n",
       "      <td>https://open.spotify.com/track/7hxHWCCAIIxFLCz...</td>\n",
       "      <td>Lemonade  , Internet Money</td>\n",
       "      <td>Lemonade</td>\n",
       "      <td>Internet Money</td>\n",
       "    </tr>\n",
       "    <tr>\n",
       "      <th>4</th>\n",
       "      <td>4</td>\n",
       "      <td>Global</td>\n",
       "      <td>05/11/2020</td>\n",
       "      <td>5.0</td>\n",
       "      <td>https://open.spotify.com/track/4y4spB9m0Q6026K...</td>\n",
       "      <td>Lonely  , Justin Bieber</td>\n",
       "      <td>Lonely</td>\n",
       "      <td>Justin Bieber</td>\n",
       "    </tr>\n",
       "  </tbody>\n",
       "</table>\n",
       "</div>"
      ],
      "text/plain": [
       "   Unnamed: 0 country        date  position  \\\n",
       "0           0  Global  05/11/2020       1.0   \n",
       "1           1  Global  05/11/2020       2.0   \n",
       "2           2  Global  05/11/2020       3.0   \n",
       "3           3  Global  05/11/2020       4.0   \n",
       "4           4  Global  05/11/2020       5.0   \n",
       "\n",
       "                                                 uri  \\\n",
       "0  https://open.spotify.com/track/47EiUVwUp4C9fGc...   \n",
       "1  https://open.spotify.com/track/35mvY5S1H3J2QZy...   \n",
       "2  https://open.spotify.com/track/3tjFYV6RSFtuktY...   \n",
       "3  https://open.spotify.com/track/7hxHWCCAIIxFLCz...   \n",
       "4  https://open.spotify.com/track/4y4spB9m0Q6026K...   \n",
       "\n",
       "                               track        title                    artist  \n",
       "0   Dakiti , Bad Bunny, Jhay Cortez       Dakiti    Bad Bunny, Jhay Cortez   \n",
       "1         positions , Ariana Grande    positions             Ariana Grande   \n",
       "2                  Mood  , 24kGoldn        Mood                   24kGoldn   \n",
       "3        Lemonade  , Internet Money    Lemonade             Internet Money   \n",
       "4           Lonely  , Justin Bieber      Lonely              Justin Bieber   "
      ]
     },
     "execution_count": 174,
     "metadata": {},
     "output_type": "execute_result"
    }
   ],
   "source": [
    "df_1.head()"
   ]
  },
  {
   "cell_type": "code",
   "execution_count": 102,
   "id": "c1778c6c-12b6-4081-8926-8561bbd482ad",
   "metadata": {},
   "outputs": [
    {
     "data": {
      "text/plain": [
       "Artist_followers    float64\n",
       "Explicit             object\n",
       "Track_number           Int8\n",
       "Tracks_in_album       Int64\n",
       "danceability        float64\n",
       "energy              float64\n",
       "key                 float64\n",
       "loudness            float64\n",
       "mode                float64\n",
       "speechiness         float64\n",
       "acoustics           float64\n",
       "instrumentalness    float64\n",
       "liveliness          float64\n",
       "valence             float64\n",
       "tempo               float64\n",
       "duration_ms         float64\n",
       "time_signature      float64\n",
       "dtype: object"
      ]
     },
     "execution_count": 102,
     "metadata": {},
     "output_type": "execute_result"
    }
   ],
   "source": [
    "df.iloc[:,[7,8,11,12,13,14,15,16,17,18,19,20,21,22,23,24,25]].dtypes\n",
    "# pierwszy warning wyskauje z tymi kolumnami"
   ]
  },
  {
   "cell_type": "code",
   "execution_count": 128,
   "id": "c4dcf8af-8e58-444f-b7ff-25c6d57e4d26",
   "metadata": {},
   "outputs": [
    {
     "data": {
      "text/plain": [
       "array([1, 6, 2, 7, 8, 10, 0, 4, 11, 9, 5, 3, '1', '2', '4', '8', '5', '7',\n",
       "       '0', '9', '6', '3', '11', '10', 'n\\x07'], dtype=object)"
      ]
     },
     "execution_count": 128,
     "metadata": {},
     "output_type": "execute_result"
    }
   ],
   "source": [
    "df_orginal['key'].unique()\n",
    "# szukanie unialnych wartości aby wiedzieć co trzeba podmienić aby oczyścić dane"
   ]
  },
  {
   "cell_type": "code",
   "execution_count": 14,
   "id": "0fc3d04c",
   "metadata": {},
   "outputs": [
    {
     "name": "stdout",
     "output_type": "stream",
     "text": [
      "        Country    Uri  Popularity  Title  Artist  Album/Single  Genre  \\\n",
      "0         False  False       False  False   False         False  False   \n",
      "1         False  False       False  False   False         False  False   \n",
      "2         False  False       False  False   False         False  False   \n",
      "3         False  False       False  False   False         False  False   \n",
      "4         False  False       False  False   False         False  False   \n",
      "...         ...    ...         ...    ...     ...           ...    ...   \n",
      "170628    False  False       False  False   False         False  False   \n",
      "170629    False  False       False  False   False         False  False   \n",
      "170630    False  False       False  False   False         False   True   \n",
      "170631    False  False       False  False   False         False  False   \n",
      "170632    False  False       False  False   False         False  False   \n",
      "\n",
      "        Artist_followers  Explicit  Album  ...  Sweden  Switzerland  Taiwan  \\\n",
      "0                  False     False  False  ...   False        False   False   \n",
      "1                  False     False  False  ...   False        False   False   \n",
      "2                  False     False  False  ...   False        False   False   \n",
      "3                  False     False  False  ...   False        False   False   \n",
      "4                  False     False  False  ...   False        False   False   \n",
      "...                  ...       ...    ...  ...     ...          ...     ...   \n",
      "170628             False     False  False  ...   False        False   False   \n",
      "170629             False     False  False  ...   False        False   False   \n",
      "170630             False     False  False  ...   False        False   False   \n",
      "170631             False     False  False  ...   False        False   False   \n",
      "170632             False     False  False  ...   False        False   False   \n",
      "\n",
      "        Turkey     UK    USA  Popu_max  Top10_dummy  Top50_dummy  Cluster  \n",
      "0        False  False  False     False        False        False    False  \n",
      "1        False  False  False     False        False        False    False  \n",
      "2        False  False  False     False        False        False    False  \n",
      "3        False  False  False     False        False        False    False  \n",
      "4        False  False  False     False        False        False    False  \n",
      "...        ...    ...    ...       ...          ...          ...      ...  \n",
      "170628   False  False  False     False        False        False    False  \n",
      "170629   False  False  False     False        False        False    False  \n",
      "170630   False  False  False     False        False        False    False  \n",
      "170631   False  False  False     False        False        False    False  \n",
      "170632   False  False  False     False        False        False    False  \n",
      "\n",
      "[170633 rows x 151 columns]\n"
     ]
    }
   ],
   "source": [
    "print(df.isnull())\n",
    "# przykład srpawdzania tabeli czy ma wartości null dla nas w tej postaci nie przydaten za duża tabela"
   ]
  },
  {
   "cell_type": "code",
   "execution_count": 130,
   "id": "b3f60b05",
   "metadata": {},
   "outputs": [
    {
     "name": "stdout",
     "output_type": "stream",
     "text": [
      "Int64Index([ 91956,  91957,  91958,  91959,  91960,  91961,  91962,  91963,\n",
      "             91964,  91965,  91966,  91967, 103976, 103977, 103978, 103979,\n",
      "            103980, 157556, 157570],\n",
      "           dtype='int64')\n"
     ]
    }
   ],
   "source": [
    "row_num = df_orginal[df_orginal['key'] == 'n\\x07'].index \n",
    "print(row_num) # szukanie indexow w przypadku jakiejś niezgodnej wartości"
   ]
  },
  {
   "cell_type": "code",
   "execution_count": 111,
   "id": "a0aa47a4",
   "metadata": {},
   "outputs": [
    {
     "data": {
      "text/plain": [
       "Uri                 https://open.spotify.com/track/6ZLGthToczpvnL5...\n",
       "Popularity                                                       73.6\n",
       "danceability                                                    0.631\n",
       "energy                                                          0.664\n",
       "key                                                               6.0\n",
       "loudness                                                       -9.197\n",
       "mode                                                              1.0\n",
       "speechiness                                                    0.0242\n",
       "acoustics                                                      0.0498\n",
       "instrumentalness                                              0.00042\n",
       "liveliness                                                     0.0696\n",
       "valence                                                         0.407\n",
       "tempo                                                         100.618\n",
       "duration_ms                                                  268747.0\n",
       "time_signature                                                    4.0\n",
       "Name: 91955, dtype: object"
      ]
     },
     "execution_count": 111,
     "metadata": {},
     "output_type": "execute_result"
    }
   ],
   "source": [
    "df.iloc[91955,[1,2,13,14,15,16,17,18,19,20,21,22,23,24,25]] #sprawdzanie konkretnego wiersza i kolmun dla niego"
   ]
  },
  {
   "cell_type": "code",
   "execution_count": 112,
   "id": "cde4f921-bea9-4f65-b6f5-819e6cc620e7",
   "metadata": {},
   "outputs": [
    {
     "name": "stdout",
     "output_type": "stream",
     "text": [
      "<class 'pandas.core.frame.DataFrame'>\n",
      "RangeIndex: 170633 entries, 0 to 170632\n",
      "Data columns (total 151 columns):\n",
      " #    Column               Non-Null Count   Dtype  \n",
      "---   ------               --------------   -----  \n",
      " 0    Country              170633 non-null  object \n",
      " 1    Uri                  170633 non-null  object \n",
      " 2    Popularity           170633 non-null  float64\n",
      " 3    Title                170628 non-null  object \n",
      " 4    Artist               170628 non-null  object \n",
      " 5    Album/Single         170628 non-null  object \n",
      " 6    Genre                166681 non-null  object \n",
      " 7    Artist_followers     170587 non-null  float64\n",
      " 8    Explicit             170628 non-null  object \n",
      " 9    Album                170628 non-null  object \n",
      " 10   Release_date         170628 non-null  object \n",
      " 11   Track_number         170628 non-null  Int8   \n",
      " 12   Tracks_in_album      170628 non-null  Int64  \n",
      " 13   danceability         170633 non-null  float64\n",
      " 14   energy               170633 non-null  float64\n",
      " 15   key                  170633 non-null  float64\n",
      " 16   loudness             170633 non-null  float64\n",
      " 17   mode                 170633 non-null  float64\n",
      " 18   speechiness          170633 non-null  float64\n",
      " 19   acoustics            170633 non-null  float64\n",
      " 20   instrumentalness     170633 non-null  float64\n",
      " 21   liveliness           170633 non-null  float64\n",
      " 22   valence              170633 non-null  float64\n",
      " 23   tempo                170633 non-null  float64\n",
      " 24   duration_ms          170633 non-null  float64\n",
      " 25   time_signature       170633 non-null  float64\n",
      " 26   Genre_new            170633 non-null  object \n",
      " 27   Days_since_release   167411 non-null  float64\n",
      " 28   Released_after_2017  167411 non-null  float64\n",
      " 29   Explicit_false       170633 non-null  int64  \n",
      " 30   Explicit_true        170633 non-null  int64  \n",
      " 31   album                170633 non-null  int64  \n",
      " 32   compilation          170633 non-null  int64  \n",
      " 33   single               170633 non-null  int64  \n",
      " 34   bolero               170633 non-null  int64  \n",
      " 35   boy band             170633 non-null  int64  \n",
      " 36   country              170633 non-null  int64  \n",
      " 37   dance/electronic     170633 non-null  int64  \n",
      " 38   else                 170633 non-null  int64  \n",
      " 39   funk                 170633 non-null  int64  \n",
      " 40   hip hop              170633 non-null  int64  \n",
      " 41   house                170633 non-null  int64  \n",
      " 42   indie                170633 non-null  int64  \n",
      " 43   jazz                 170633 non-null  int64  \n",
      " 44   k-pop                170633 non-null  int64  \n",
      " 45   latin                170633 non-null  int64  \n",
      " 46   metal                170633 non-null  int64  \n",
      " 47   opm                  170633 non-null  int64  \n",
      " 48   pop                  170633 non-null  int64  \n",
      " 49   r&b/soul             170633 non-null  int64  \n",
      " 50   rap                  170633 non-null  int64  \n",
      " 51   reggae               170633 non-null  int64  \n",
      " 52   reggaeton            170633 non-null  int64  \n",
      " 53   rock                 170633 non-null  int64  \n",
      " 54   trap                 170633 non-null  int64  \n",
      " 55   syuzhet_norm         71866 non-null   float64\n",
      " 56   bing_norm            71866 non-null   float64\n",
      " 57   afinn_norm           71866 non-null   float64\n",
      " 58   nrc_norm             71866 non-null   float64\n",
      " 59   syuzhet              71866 non-null   float64\n",
      " 60   bing                 71866 non-null   float64\n",
      " 61   afinn                71866 non-null   float64\n",
      " 62   nrc                  71866 non-null   float64\n",
      " 63   anger                71866 non-null   float64\n",
      " 64   anticipation         71866 non-null   float64\n",
      " 65   disgust              71866 non-null   float64\n",
      " 66   fear                 71866 non-null   float64\n",
      " 67   joy                  71866 non-null   float64\n",
      " 68   sadness              71866 non-null   float64\n",
      " 69   surprise             71866 non-null   float64\n",
      " 70   trust                71866 non-null   float64\n",
      " 71   negative             71866 non-null   float64\n",
      " 72   positive             71866 non-null   float64\n",
      " 73   n_words              71866 non-null   float64\n",
      " 74   anger_norm           71866 non-null   float64\n",
      " 75   anticipation_norm    71866 non-null   float64\n",
      " 76   disgust_norm         71866 non-null   float64\n",
      " 77   fear_norm            71866 non-null   float64\n",
      " 78   joy_norm             71866 non-null   float64\n",
      " 79   sadness_norm         71866 non-null   float64\n",
      " 80   surprise_norm        71866 non-null   float64\n",
      " 81   trust_norm           71866 non-null   float64\n",
      " 82   negative_norm        71866 non-null   float64\n",
      " 83   positive_norm        71866 non-null   float64\n",
      " 84   anger_norm2          71392 non-null   float64\n",
      " 85   anticipation_norm2   71392 non-null   float64\n",
      " 86   disgust_norm2        71392 non-null   float64\n",
      " 87   fear_norm2           71392 non-null   float64\n",
      " 88   joy_norm2            71392 non-null   float64\n",
      " 89   sadness_norm2        71392 non-null   float64\n",
      " 90   surprise_norm2       71392 non-null   float64\n",
      " 91   trust_norm2          71392 non-null   float64\n",
      " 92   negative_norm2       71449 non-null   float64\n",
      " 93   positive_norm2       71449 non-null   float64\n",
      " 94   negative_bog_jr      71866 non-null   float64\n",
      " 95   positive_bog_jr      71866 non-null   float64\n",
      " 96   Bayes                71866 non-null   float64\n",
      " 97   Negative_Bayes       71866 non-null   float64\n",
      " 98   Neutral_Bayes        71866 non-null   float64\n",
      " 99   Positive_Bayes       71866 non-null   float64\n",
      " 100  LDA_Topic            71866 non-null   object \n",
      " 101  Celebrate            71866 non-null   float64\n",
      " 102  Desire               71866 non-null   float64\n",
      " 103  Explore              71866 non-null   float64\n",
      " 104  Fun                  71866 non-null   float64\n",
      " 105  Hope                 71866 non-null   float64\n",
      " 106  Love                 71866 non-null   float64\n",
      " 107  Nostalgia            71866 non-null   float64\n",
      " 108  Thug                 71866 non-null   float64\n",
      " 109  bing_norm_negative   170633 non-null  int64  \n",
      " 110  bing_norm_neutral    170633 non-null  int64  \n",
      " 111  bing_norm_positive   170633 non-null  int64  \n",
      " 112  Argentina            170633 non-null  int64  \n",
      " 113  Australia            170633 non-null  int64  \n",
      " 114  Austria              170633 non-null  int64  \n",
      " 115  Belgium              170633 non-null  int64  \n",
      " 116  Brazil               170633 non-null  int64  \n",
      " 117  Canada               170633 non-null  int64  \n",
      " 118  Chile                170633 non-null  int64  \n",
      " 119  Colombia             170633 non-null  int64  \n",
      " 120  Costa Rica           170633 non-null  int64  \n",
      " 121  Denmark              170633 non-null  int64  \n",
      " 122  Ecuador              170633 non-null  int64  \n",
      " 123  Finland              170633 non-null  int64  \n",
      " 124  France               170633 non-null  int64  \n",
      " 125  Germany              170633 non-null  int64  \n",
      " 126  Global               170633 non-null  int64  \n",
      " 127  Indonesia            170633 non-null  int64  \n",
      " 128  Ireland              170633 non-null  int64  \n",
      " 129  Italy                170633 non-null  int64  \n",
      " 130  Malaysia             170633 non-null  int64  \n",
      " 131  Mexico               170633 non-null  int64  \n",
      " 132  Netherlands          170633 non-null  int64  \n",
      " 133  New Zealand          170633 non-null  int64  \n",
      " 134  Norway               170633 non-null  int64  \n",
      " 135  Peru                 170633 non-null  int64  \n",
      " 136  Philippines          170633 non-null  int64  \n",
      " 137  Poland               170633 non-null  int64  \n",
      " 138  Portugal             170633 non-null  int64  \n",
      " 139  Singapore            170633 non-null  int64  \n",
      " 140  Spain                170633 non-null  int64  \n",
      " 141  Sweden               170633 non-null  int64  \n",
      " 142  Switzerland          170633 non-null  int64  \n",
      " 143  Taiwan               170633 non-null  int64  \n",
      " 144  Turkey               170633 non-null  int64  \n",
      " 145  UK                   170633 non-null  int64  \n",
      " 146  USA                  170633 non-null  int64  \n",
      " 147  Popu_max             170633 non-null  int64  \n",
      " 148  Top10_dummy          170633 non-null  float64\n",
      " 149  Top50_dummy          170633 non-null  float64\n",
      " 150  Cluster              170633 non-null  object \n",
      "dtypes: Int64(1), Int8(1), float64(72), int64(65), object(12)\n",
      "memory usage: 195.8+ MB\n"
     ]
    }
   ],
   "source": [
    "df.info(verbose=True, show_counts=True)\n",
    "# sprawdzenie kolumn ich typów oraz ilości zliczonych wartości innych niż null"
   ]
  },
  {
   "cell_type": "code",
   "execution_count": 114,
   "id": "8add964c",
   "metadata": {},
   "outputs": [],
   "source": [
    "#df.iloc[:,[7,8,11,12,13,14,15,16,17,18,19,20,21,22,23,24,25]]\n",
    "# stowrzenie fragemtnu całe tabeli na podstawie kolumn z warnigniem dla orginały niżej skomentowane to samo ale juz dla poprawionej \n",
    "#df.iloc[:,[8,13,14,15,16,17,18,19,20,21,22,23,24,25]] "
   ]
  },
  {
   "cell_type": "code",
   "execution_count": null,
   "id": "5a9552b0",
   "metadata": {},
   "outputs": [],
   "source": []
  }
 ],
 "metadata": {
  "kernelspec": {
   "display_name": "Python 3 (ipykernel)",
   "language": "python",
   "name": "python3"
  },
  "language_info": {
   "codemirror_mode": {
    "name": "ipython",
    "version": 3
   },
   "file_extension": ".py",
   "mimetype": "text/x-python",
   "name": "python",
   "nbconvert_exporter": "python",
   "pygments_lexer": "ipython3",
   "version": "3.9.13"
  }
 },
 "nbformat": 4,
 "nbformat_minor": 5
}
