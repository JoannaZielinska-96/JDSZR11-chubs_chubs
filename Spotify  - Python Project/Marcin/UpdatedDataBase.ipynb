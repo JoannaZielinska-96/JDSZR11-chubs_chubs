{
 "cells": [
  {
   "cell_type": "code",
   "execution_count": 3,
   "id": "128e6fea-7c67-4dbd-b792-ebeaf616c1b9",
   "metadata": {},
   "outputs": [],
   "source": [
    "import pandas as pd\n",
    "import numpy as np\n",
    "pd.set_option('display.max_columns',200)"
   ]
  },
  {
   "cell_type": "code",
   "execution_count": 4,
   "id": "50bf20b4-cea1-40f0-be8c-d2ab4f90f5f0",
   "metadata": {},
   "outputs": [
    {
     "name": "stderr",
     "output_type": "stream",
     "text": [
      "C:\\Users\\Data\\AppData\\Local\\Temp\\ipykernel_159536\\512786828.py:1: DtypeWarning: Columns (8,13,14,15,16,17,18,19,20,21,22,23,24,25) have mixed types. Specify dtype option on import or set low_memory=False.\n",
      "  df_orginal = pd.read_csv('./Orginal_database_from_Kaggle/Final database.csv',dtype={'Track_number':pd.Int8Dtype(),'Tracks_in_album':pd.Int64Dtype()},na_values=('n-a','NA'),sep= ',')\n"
     ]
    }
   ],
   "source": [
    "df_orginal = pd.read_csv('./Orginal_database_from_Kaggle/Final database.csv',dtype={'Track_number':pd.Int8Dtype(),'Tracks_in_album':pd.Int64Dtype()},na_values=('n-a','NA'),sep= ',')\n",
    "# pd.Int8Dtype() castuje integer for nan values from panda"
   ]
  },
  {
   "cell_type": "code",
   "execution_count": 5,
   "id": "8dd8083b-c461-407c-88a2-a76e8aeaec53",
   "metadata": {},
   "outputs": [],
   "source": [
    "columns = list(df_orginal.columns) # lista nazw wszystkich kolumn\n",
    "columns_to_check = [13,14,15,16,17,18,19,20,21,22,23,24,25] # lista indesków interesujących nas kolumn z warninga"
   ]
  },
  {
   "cell_type": "code",
   "execution_count": 6,
   "id": "a49e0f29-56ab-4a88-a774-134049237175",
   "metadata": {},
   "outputs": [],
   "source": [
    "def swich(filed):  # funncjka aby dokonac podmiany wartośći do wykrzystania przy parametrze converters\n",
    "    if filed == 'n\\x07':\n",
    "        return  0\n",
    "    else:\n",
    "        return float(filed) # nadanie float i tym samym zapewnnie kolumnie odpowiedniego typu\n",
    "    "
   ]
  },
  {
   "cell_type": "code",
   "execution_count": 7,
   "id": "74f68ef1-14b8-4ae2-bbdc-b1e4765d386b",
   "metadata": {},
   "outputs": [],
   "source": [
    "columns_to_change = {} # slownik złożony z  columns_to_check i funkcji swich\n",
    "for i,j in enumerate(columns):\n",
    "        if i in columns_to_check:\n",
    "            columns_to_change[j] = swich"
   ]
  },
  {
   "cell_type": "code",
   "execution_count": 8,
   "id": "74510e58-50ed-4cf7-a855-5c6a34ba3e46",
   "metadata": {},
   "outputs": [
    {
     "name": "stderr",
     "output_type": "stream",
     "text": [
      "C:\\Users\\Data\\AppData\\Local\\Temp\\ipykernel_159536\\1933048488.py:1: DtypeWarning: Columns (8) have mixed types. Specify dtype option on import or set low_memory=False.\n",
      "  df = pd.read_csv('./Orginal_database_from_Kaggle/Final database.csv',dtype={'Track_number':pd.Int8Dtype(),'Tracks_in_album':pd.Int64Dtype()},na_values=('n-a','NA'),sep= ',',converters=columns_to_change)\n"
     ]
    }
   ],
   "source": [
    "df = pd.read_csv('./Orginal_database_from_Kaggle/Final database.csv',dtype={'Track_number':pd.Int8Dtype(),'Tracks_in_album':pd.Int64Dtype()},na_values=('n-a','NA'),sep= ',',converters=columns_to_change)\n",
    "# pd.Int8Dtype() castuje integer for nan values from panda"
   ]
  },
  {
   "cell_type": "code",
   "execution_count": 9,
   "id": "125a8588-9176-4f24-b0e2-1b5e05c5e0ea",
   "metadata": {},
   "outputs": [
    {
     "data": {
      "text/html": [
       "<div>\n",
       "<style scoped>\n",
       "    .dataframe tbody tr th:only-of-type {\n",
       "        vertical-align: middle;\n",
       "    }\n",
       "\n",
       "    .dataframe tbody tr th {\n",
       "        vertical-align: top;\n",
       "    }\n",
       "\n",
       "    .dataframe thead th {\n",
       "        text-align: right;\n",
       "    }\n",
       "</style>\n",
       "<table border=\"1\" class=\"dataframe\">\n",
       "  <thead>\n",
       "    <tr style=\"text-align: right;\">\n",
       "      <th></th>\n",
       "      <th>country_T_F</th>\n",
       "    </tr>\n",
       "  </thead>\n",
       "  <tbody>\n",
       "    <tr>\n",
       "      <th>0</th>\n",
       "      <td>0</td>\n",
       "    </tr>\n",
       "    <tr>\n",
       "      <th>1</th>\n",
       "      <td>0</td>\n",
       "    </tr>\n",
       "    <tr>\n",
       "      <th>2</th>\n",
       "      <td>0</td>\n",
       "    </tr>\n",
       "    <tr>\n",
       "      <th>3</th>\n",
       "      <td>0</td>\n",
       "    </tr>\n",
       "    <tr>\n",
       "      <th>4</th>\n",
       "      <td>0</td>\n",
       "    </tr>\n",
       "    <tr>\n",
       "      <th>...</th>\n",
       "      <td>...</td>\n",
       "    </tr>\n",
       "    <tr>\n",
       "      <th>170628</th>\n",
       "      <td>0</td>\n",
       "    </tr>\n",
       "    <tr>\n",
       "      <th>170629</th>\n",
       "      <td>0</td>\n",
       "    </tr>\n",
       "    <tr>\n",
       "      <th>170630</th>\n",
       "      <td>0</td>\n",
       "    </tr>\n",
       "    <tr>\n",
       "      <th>170631</th>\n",
       "      <td>0</td>\n",
       "    </tr>\n",
       "    <tr>\n",
       "      <th>170632</th>\n",
       "      <td>0</td>\n",
       "    </tr>\n",
       "  </tbody>\n",
       "</table>\n",
       "<p>170633 rows × 1 columns</p>\n",
       "</div>"
      ],
      "text/plain": [
       "        country_T_F\n",
       "0                 0\n",
       "1                 0\n",
       "2                 0\n",
       "3                 0\n",
       "4                 0\n",
       "...             ...\n",
       "170628            0\n",
       "170629            0\n",
       "170630            0\n",
       "170631            0\n",
       "170632            0\n",
       "\n",
       "[170633 rows x 1 columns]"
      ]
     },
     "execution_count": 9,
     "metadata": {},
     "output_type": "execute_result"
    }
   ],
   "source": [
    "df.rename(columns = {'album':'album_T_F','country': 'country_T_F'}, inplace=True)\n",
    "df['Explicit'] = df['Explicit'].fillna(value=-1)"
   ]
  },
  {
   "cell_type": "code",
   "execution_count": 111,
   "id": "b869460c-782d-4f3b-9250-a0ee0f813ae4",
   "metadata": {},
   "outputs": [],
   "source": [
    "df.to_csv('./Final_database_updated.csv')"
   ]
  }
 ],
 "metadata": {
  "kernelspec": {
   "display_name": "Python 3 (ipykernel)",
   "language": "python",
   "name": "python3"
  },
  "language_info": {
   "codemirror_mode": {
    "name": "ipython",
    "version": 3
   },
   "file_extension": ".py",
   "mimetype": "text/x-python",
   "name": "python",
   "nbconvert_exporter": "python",
   "pygments_lexer": "ipython3",
   "version": "3.9.13"
  }
 },
 "nbformat": 4,
 "nbformat_minor": 5
}
